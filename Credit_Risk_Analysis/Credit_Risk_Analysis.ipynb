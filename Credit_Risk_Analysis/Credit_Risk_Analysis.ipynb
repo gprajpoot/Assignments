{
  "nbformat": 4,
  "nbformat_minor": 0,
  "metadata": {
    "colab": {
      "provenance": []
    },
    "kernelspec": {
      "name": "python3",
      "display_name": "Python 3"
    },
    "language_info": {
      "name": "python"
    }
  },
  "cells": [
    {
      "cell_type": "markdown",
      "source": [
        "Step 1: Load and Explore the Data\n",
        "Objective: Load the datasets, check their structure, and get an initial understanding."
      ],
      "metadata": {
        "id": "Ktpe_naYn7M5"
      }
    },
    {
      "cell_type": "code",
      "source": [
        "import pandas as pd\n",
        "\n",
        "# Load datasets\n",
        "application_data = pd.read_csv('application_data.csv')\n",
        "previous_application = pd.read_csv('previous_application.csv')\n",
        "try:\n",
        "    columns_description = pd.read_csv('columns_description.csv', encoding='utf-8')\n",
        "except UnicodeDecodeError:\n",
        "    try:\n",
        "        columns_description = pd.read_csv('columns_description.csv', encoding='latin1')\n",
        "    except UnicodeDecodeError:\n",
        "        columns_description = pd.read_csv('columns_description.csv', encoding='iso-8859-1')\n",
        "\n",
        "# Check the structure of the datasets\n",
        "print(application_data.info())\n",
        "print(previous_application.info())\n",
        "\n",
        "# Display first few rows\n",
        "print(application_data.head())\n",
        "print(previous_application.head())\n"
      ],
      "metadata": {
        "id": "HWqIesndn8WZ"
      },
      "execution_count": null,
      "outputs": []
    },
    {
      "cell_type": "markdown",
      "source": [
        "Step 2: Data Cleaning (Handling Missing Values & Data Types)\n",
        "Objective: Identify and handle missing values, fix data types, and drop irrelevant columns."
      ],
      "metadata": {
        "id": "AQrTvbxFoFyF"
      }
    },
    {
      "cell_type": "code",
      "source": [
        "# Check for missing values\n",
        "missing_values = application_data.isnull().sum().sort_values(ascending=False)\n",
        "print(missing_values[missing_values > 0])\n",
        "\n",
        "# Drop columns with excessive missing values (e.g., more than 50% missing)\n",
        "threshold = 0.5 * len(application_data)\n",
        "application_data_cleaned = application_data.dropna(thresh=threshold, axis=1)\n",
        "\n",
        "# Fill missing values with median for numerical columns\n",
        "num_cols = application_data_cleaned.select_dtypes(include=['number']).columns\n",
        "application_data_cleaned[num_cols] = application_data_cleaned[num_cols].fillna(application_data_cleaned[num_cols].median())\n",
        "\n",
        "# Convert categorical variables\n",
        "cat_cols = application_data_cleaned.select_dtypes(include=['object']).columns\n",
        "application_data_cleaned[cat_cols] = application_data_cleaned[cat_cols].fillna(\"Unknown\")\n",
        "\n",
        "# Display cleaned data\n",
        "print(application_data_cleaned.info())\n"
      ],
      "metadata": {
        "id": "SRqb9kgXoT6b"
      },
      "execution_count": null,
      "outputs": []
    },
    {
      "cell_type": "markdown",
      "source": [
        "Step 3: Handle Categorical Variables (Encoding)\n",
        "Objective: Convert categorical variables into numerical values for analysis."
      ],
      "metadata": {
        "id": "BXx83ft2oXy3"
      }
    },
    {
      "cell_type": "code",
      "source": [
        "from sklearn.preprocessing import LabelEncoder\n",
        "\n",
        "# Label Encoding for binary categorical variables\n",
        "for col in cat_cols:\n",
        "    if application_data_cleaned[col].nunique() == 2:  # Binary categorical\n",
        "        le = LabelEncoder()\n",
        "        application_data_cleaned[col] = le.fit_transform(application_data_cleaned[col])\n",
        "    else:\n",
        "        application_data_cleaned = pd.get_dummies(application_data_cleaned, columns=[col], drop_first=True)\n",
        "\n",
        "print(application_data_cleaned.head())\n"
      ],
      "metadata": {
        "id": "5sSADYUKobm0"
      },
      "execution_count": null,
      "outputs": []
    },
    {
      "cell_type": "markdown",
      "source": [
        "Step 4: Identify Outliers\n",
        "Objective: Detect outliers in numerical columns."
      ],
      "metadata": {
        "id": "ShhE_tIGoijB"
      }
    },
    {
      "cell_type": "code",
      "source": [
        "import seaborn as sns\n",
        "import matplotlib.pyplot as plt\n",
        "\n",
        "# Plot distribution of a key numerical feature\n",
        "plt.figure(figsize=(10, 5))\n",
        "sns.boxplot(x=application_data_cleaned['AMT_INCOME_TOTAL'])\n",
        "plt.title(\"Box Plot of Income\")\n",
        "plt.show()\n"
      ],
      "metadata": {
        "id": "axs-XHiWol--"
      },
      "execution_count": null,
      "outputs": []
    },
    {
      "cell_type": "markdown",
      "source": [
        "Step 5: Data Imbalance Check\n",
        "Objective: Check if default cases (TARGET variable) are imbalanced."
      ],
      "metadata": {
        "id": "TmNJc2mEooNy"
      }
    },
    {
      "cell_type": "code",
      "source": [
        "sns.countplot(x='TARGET', data=application_data_cleaned)\n",
        "plt.title(\"Target Variable Distribution\")\n",
        "plt.show()\n",
        "\n",
        "# Calculate imbalance ratio\n",
        "default_ratio = application_data_cleaned['TARGET'].value_counts(normalize=True)\n",
        "print(\"Class Distribution:\\n\", default_ratio)\n"
      ],
      "metadata": {
        "id": "JqqL9zaPouR1"
      },
      "execution_count": null,
      "outputs": []
    },
    {
      "cell_type": "markdown",
      "source": [
        "Step 6: Univariate & Bivariate Analysis\n",
        "Objective: Analyze the relationship of features with loan default."
      ],
      "metadata": {
        "id": "jtpl0RWjoxa7"
      }
    },
    {
      "cell_type": "code",
      "source": [
        "# Histogram of Income by Default Status\n",
        "plt.figure(figsize=(10, 5))\n",
        "sns.histplot(application_data_cleaned, x=\"AMT_INCOME_TOTAL\", hue=\"TARGET\", kde=True)\n",
        "plt.title(\"Income Distribution by Loan Default\")\n",
        "plt.show()\n"
      ],
      "metadata": {
        "id": "8Ir0D-2noz8j"
      },
      "execution_count": null,
      "outputs": []
    },
    {
      "cell_type": "markdown",
      "source": [
        "Step 7: Correlation Analysis\n",
        "Objective: Identify top correlated features affecting default."
      ],
      "metadata": {
        "id": "CiRI38SCo3lU"
      }
    },
    {
      "cell_type": "code",
      "source": [
        "import numpy as np\n",
        "\n",
        "# Convert all non-numeric columns to numeric before correlation\n",
        "application_data_numeric = application_data_cleaned.select_dtypes(include=[np.number])\n",
        "\n",
        "# Compute correlation matrix\n",
        "correlation_matrix = application_data_numeric.corr()\n",
        "\n",
        "# Plot heatmap\n",
        "plt.figure(figsize=(12, 8))\n",
        "sns.heatmap(correlation_matrix, cmap=\"coolwarm\", annot=False)\n",
        "plt.title(\"Feature Correlation Heatmap\")\n",
        "plt.show()\n",
        "\n",
        "# Top 10 correlations with default (TARGET)\n",
        "top_corr = correlation_matrix['TARGET'].abs().sort_values(ascending=False)\n",
        "print(\"Top Correlated Features with Default:\\n\", top_corr.head(10))\n"
      ],
      "metadata": {
        "id": "ZqMSRJnuo80i"
      },
      "execution_count": null,
      "outputs": []
    },
    {
      "cell_type": "markdown",
      "source": [
        "Step 8: Feature Selection\n",
        "Objective: Select the most important variables for analysis."
      ],
      "metadata": {
        "id": "tnC8iPyMpA6I"
      }
    },
    {
      "cell_type": "code",
      "source": [
        "# Select top features correlated with TARGET\n",
        "selected_features = top_corr.head(10).index\n",
        "application_data_selected = application_data_cleaned[selected_features]\n",
        "\n",
        "print(application_data_selected.head())\n"
      ],
      "metadata": {
        "id": "p3ANzUrCpEsd"
      },
      "execution_count": null,
      "outputs": []
    },
    {
      "cell_type": "markdown",
      "source": [
        "Step 9: Summarizing Insights\n",
        "Objective: Summarize key findings and their business impact.\n",
        "\n",
        "Key Questions to Answer:\n",
        "What are the strongest predictors of loan default?\n",
        "How does income level affect default risk?\n",
        "Do certain loan types have a higher default rate?\n",
        "Are previous loan rejections linked to higher default rates?\n",
        "Are married individuals less likely to default than single individuals?"
      ],
      "metadata": {
        "id": "mnLTZOoYpHNa"
      }
    }
  ]
}